{
 "cells": [
  {
   "cell_type": "markdown",
   "id": "78b10be3",
   "metadata": {},
   "source": [
    "# EXERCICI 1"
   ]
  },
  {
   "cell_type": "markdown",
   "id": "a513fab9",
   "metadata": {},
   "source": [
    "### L'exercici consisteix a crear un programa que et classifiqui una variable numèrica en funció de l’escala Suspès/Aprovat/Notable/Excel·lent.\n",
    "\n",
    "### Recorda que Suspès < 5, Aprovat > 5 i < 7, Notable > 7 i < 9 i Excel·lent > 9."
   ]
  },
  {
   "cell_type": "code",
   "execution_count": 1,
   "id": "1509c106",
   "metadata": {},
   "outputs": [
    {
     "name": "stdout",
     "output_type": "stream",
     "text": [
      "Introdueixi la nota: 10\n"
     ]
    },
    {
     "data": {
      "text/plain": [
       "'Excel·lent.'"
      ]
     },
     "execution_count": 1,
     "metadata": {},
     "output_type": "execute_result"
    }
   ],
   "source": [
    "def classificar(nota):\n",
    "    \n",
    "    if nota < 5:\n",
    "        return \"Suspès.\"\n",
    "    \n",
    "    elif nota < 7:\n",
    "        return \"Aprovat.\"\n",
    "    \n",
    "    elif nota < 9:\n",
    "        return \"Notable.\"\n",
    "    \n",
    "    else:\n",
    "        return \"Excel·lent.\"\n",
    "    \n",
    "nota = int(input(\"Introdueixi la nota: \"))\n",
    "\n",
    "classificar(nota)"
   ]
  },
  {
   "cell_type": "markdown",
   "id": "f2293647",
   "metadata": {},
   "source": [
    "# EXERCICI 2"
   ]
  },
  {
   "cell_type": "markdown",
   "id": "023a27cf",
   "metadata": {},
   "source": [
    "### Utilitzant el següent tutorial crea un programa que et pregunti dos números. T’ha de mostrar un missatge dient si el primer és més gran, el segon és més gran o són iguals."
   ]
  },
  {
   "cell_type": "code",
   "execution_count": 2,
   "id": "bd720afa",
   "metadata": {},
   "outputs": [
    {
     "name": "stdout",
     "output_type": "stream",
     "text": [
      "Introdueix el primer número: 4\n",
      "Introdueix el segon número: 3\n"
     ]
    },
    {
     "data": {
      "text/plain": [
       "'El primer número és més gran.'"
      ]
     },
     "execution_count": 2,
     "metadata": {},
     "output_type": "execute_result"
    }
   ],
   "source": [
    "def numeros(num1, num2):\n",
    "\n",
    "    if num1 > num2:\n",
    "        return \"El primer número és més gran.\"\n",
    "    \n",
    "    elif num1 < num2:\n",
    "        return \"El segon número és més gran.\"\n",
    "    \n",
    "    else:\n",
    "        return \"Els números són iguals.\"\n",
    "    \n",
    "num1 = int(input(\"Introdueix el primer número: \"))\n",
    "num2 = int(input(\"Introdueix el segon número: \"))\n",
    "    \n",
    "numeros(num1, num2)"
   ]
  },
  {
   "cell_type": "markdown",
   "id": "1c7399a4",
   "metadata": {},
   "source": [
    "# EXERCICI 3"
   ]
  },
  {
   "cell_type": "markdown",
   "id": "98bf8dad",
   "metadata": {},
   "source": [
    "### Crea un programa que et pregunti el teu nom, i et demani un número. Si el número és 0, hauria de mostrar un missatge d’error. En cas contrari, hauria de mostrar el nom repetit tants cops com indiqui el número. Per exemple, “Joan Joan Joan”."
   ]
  },
  {
   "cell_type": "code",
   "execution_count": 3,
   "id": "f5d8921c",
   "metadata": {},
   "outputs": [
    {
     "name": "stdout",
     "output_type": "stream",
     "text": [
      "Introdueixi el seu nom:Joan\n",
      "Introdueixi un número:10\n"
     ]
    },
    {
     "data": {
      "text/plain": [
       "'Joan Joan Joan Joan Joan Joan Joan Joan Joan Joan '"
      ]
     },
     "execution_count": 3,
     "metadata": {},
     "output_type": "execute_result"
    }
   ],
   "source": [
    "def repetir(nom, numero):\n",
    "\n",
    "    return \"ERROR: Introdueixi un número que no sigui zero.\" if numero == 0 else (nom + \" \") * numero\n",
    "    \n",
    "    \n",
    "nom = input(\"Introdueixi el seu nom:\")\n",
    "numero = int(input(\"Introdueixi un número:\"))\n",
    "\n",
    "repetir(nom, numero)\n"
   ]
  },
  {
   "cell_type": "markdown",
   "id": "41876832",
   "metadata": {},
   "source": [
    "# EXERCICI 4"
   ]
  },
  {
   "cell_type": "markdown",
   "id": "2a0d5092",
   "metadata": {},
   "source": [
    "### Crea un programa que donada una llista qualsevol, et digui si és simètrica o no. Si ho és, que et digui quants elements té."
   ]
  },
  {
   "cell_type": "code",
   "execution_count": 4,
   "id": "7d597bda",
   "metadata": {},
   "outputs": [
    {
     "name": "stdout",
     "output_type": "stream",
     "text": [
      "Introdueix una llista d'elements separats per espais: 3 4 5 4 3\n"
     ]
    },
    {
     "data": {
      "text/plain": [
       "'És simètrica i té 5 elements.'"
      ]
     },
     "execution_count": 4,
     "metadata": {},
     "output_type": "execute_result"
    }
   ],
   "source": [
    "def simetrica(llista):\n",
    "    \n",
    "    #inverteixo la llista per veure si coincideix i per tant és simètrica\n",
    "    \n",
    "    if llista == llista[::-1]:\n",
    "        \n",
    "        return \"És simètrica i té \" + str(len(llista)) + \" elements.\"\n",
    "    \n",
    "    else:\n",
    "        \n",
    "        return \"No és simètrica.\"\n",
    "\n",
    "\n",
    "intro = input(\"Introdueix una llista d'elements separats per espais: \")\n",
    "\n",
    "\n",
    "llista = intro.split()\n",
    "\n",
    "\n",
    "simetrica(llista)"
   ]
  },
  {
   "cell_type": "markdown",
   "id": "a61596a7",
   "metadata": {},
   "source": [
    "# EXERCICI 5"
   ]
  },
  {
   "cell_type": "markdown",
   "id": "92b71254",
   "metadata": {},
   "source": [
    "### Crea un programa que donada una llista, et digui quants números coincideixen amb la seva posició. Per exemple [3,4,2,0,2,3,6] el 2 i el 6 coincideixen."
   ]
  },
  {
   "cell_type": "code",
   "execution_count": 5,
   "id": "7a378235",
   "metadata": {},
   "outputs": [
    {
     "name": "stdout",
     "output_type": "stream",
     "text": [
      "Introdueix una llista de números separats per espais: 0 1 2 4\n",
      "Coincideixen amb la seva posició 3 números.\n"
     ]
    }
   ],
   "source": [
    "def coincidencia(llista):\n",
    "    \n",
    "    count = 0\n",
    "    \n",
    "    for i in range(len(llista)):    \n",
    "        \n",
    "        if llista[i] == i:\n",
    "            count += 1\n",
    "        \n",
    "    return \"Coincideixen amb la seva posició \" + str(count) + \" números.\"\n",
    "\n",
    "\n",
    "intro = input(\"Introdueix una llista de números separats per espais: \")\n",
    "\n",
    "llista = [int(num) for num in intro.split()]\n",
    "\n",
    "print(coincidencia(llista))"
   ]
  }
 ],
 "metadata": {
  "kernelspec": {
   "display_name": "Python 3 (ipykernel)",
   "language": "python",
   "name": "python3"
  },
  "language_info": {
   "codemirror_mode": {
    "name": "ipython",
    "version": 3
   },
   "file_extension": ".py",
   "mimetype": "text/x-python",
   "name": "python",
   "nbconvert_exporter": "python",
   "pygments_lexer": "ipython3",
   "version": "3.10.9"
  }
 },
 "nbformat": 4,
 "nbformat_minor": 5
}
